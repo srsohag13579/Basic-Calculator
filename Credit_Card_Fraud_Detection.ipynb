{
  "nbformat": 4,
  "nbformat_minor": 0,
  "metadata": {
    "colab": {
      "provenance": [],
      "authorship_tag": "ABX9TyMXbhC4DT/wUQgVNPnX1Cu6",
      "include_colab_link": true
    },
    "kernelspec": {
      "name": "python3",
      "display_name": "Python 3"
    },
    "language_info": {
      "name": "python"
    }
  },
  "cells": [
    {
      "cell_type": "markdown",
      "metadata": {
        "id": "view-in-github",
        "colab_type": "text"
      },
      "source": [
        "<a href=\"https://colab.research.google.com/github/srsohag13579/Basic-Calculator/blob/main/Credit_Card_Fraud_Detection.ipynb\" target=\"_parent\"><img src=\"https://colab.research.google.com/assets/colab-badge.svg\" alt=\"Open In Colab\"/></a>"
      ]
    },
    {
      "cell_type": "code",
      "source": [
        "library(ranger)\n",
        "library(caret)\n",
        "library(data.table)\n",
        "creditcard_data <- read.csv(\"C:\\Users\\srsoh\\OneDrive\\Desktop\\Credit Card Fraud Detection\\Credit-card-dataset\")"
      ],
      "metadata": {
        "id": "Ujz_nk2U_oyc"
      },
      "execution_count": null,
      "outputs": []
    }
  ]
}